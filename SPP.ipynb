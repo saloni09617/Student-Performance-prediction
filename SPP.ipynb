{
 "cells": [
  {
   "cell_type": "markdown",
   "id": "28901e65",
   "metadata": {},
   "source": [
    "# Project: : Predicting Student Academic Performance Through Data Analysis and Machine Learning\n",
    "\n",
    "\n",
    "\n",
    "\n",
    "\n",
    "\n",
    "\n",
    "\n",
    "\n",
    "\n",
    "\n",
    "Problem Statement:\n",
    "Academic performance is influenced by various factors including study hours, sleep, past performance, and extracurricular activities. However, it is often difficult to measure which variables contribute most significantly to a student's success. This project focuses on predicting a student's performance index using personal and academic data.\n",
    "\n",
    "Project Objective:\n",
    "Conduct EDA to find trends and relationships between performance and influencing factors.\n",
    "Identify key attributes (e.g., hours studied, previous scores, sleep hours) affecting academic outcomes.\n",
    "Build a predictive model to estimate the Performance Index using regression techniques.\n",
    "Offer insights that can guide students, parents, and educators in improving learning strategies.\n",
    "\n",
    "Business Context:\n",
    "In educational institutions and tutoring services, predicting student performance can:\n",
    "Help in early intervention for at-risk students.\n",
    "Enable personalized learning plans.\n",
    "Improve the overall effectiveness of academic programs.\n",
    "Educational startups and EdTech platforms can use such models to provide data-backed learning insights and academic recommendations."
   ]
  },
  {
   "cell_type": "markdown",
   "id": "6e305e1f",
   "metadata": {
    "papermill": {
     "duration": 0.018308,
     "end_time": "2023-11-11T01:59:06.166225",
     "exception": false,
     "start_time": "2023-11-11T01:59:06.147917",
     "status": "completed"
    },
    "tags": []
   },
   "source": [
    "## Loading Libraries & Data"
   ]
  },
  {
   "cell_type": "code",
   "execution_count": 1,
   "id": "cac19690",
   "metadata": {
    "execution": {
     "iopub.execute_input": "2023-11-11T01:59:06.205257Z",
     "iopub.status.busy": "2023-11-11T01:59:06.204546Z",
     "iopub.status.idle": "2023-11-11T01:59:07.904993Z",
     "shell.execute_reply": "2023-11-11T01:59:07.903800Z"
    },
    "papermill": {
     "duration": 1.723673,
     "end_time": "2023-11-11T01:59:07.908113",
     "exception": false,
     "start_time": "2023-11-11T01:59:06.184440",
     "status": "completed"
    },
    "tags": []
   },
   "outputs": [],
   "source": [
    "# import libraries\n",
    "import pandas as pd\n",
    "import numpy as np\n",
    "import matplotlib.pyplot as plt\n",
    "import seaborn as sns\n",
    "\n"
   ]
  },
  {
   "cell_type": "code",
   "execution_count": 4,
   "id": "def05637",
   "metadata": {
    "execution": {
     "iopub.execute_input": "2023-11-11T01:59:07.947390Z",
     "iopub.status.busy": "2023-11-11T01:59:07.946310Z",
     "iopub.status.idle": "2023-11-11T01:59:07.979996Z",
     "shell.execute_reply": "2023-11-11T01:59:07.979144Z"
    },
    "papermill": {
     "duration": 0.05617,
     "end_time": "2023-11-11T01:59:07.982655",
     "exception": false,
     "start_time": "2023-11-11T01:59:07.926485",
     "status": "completed"
    },
    "tags": []
   },
   "outputs": [],
   "source": [
    "# read data set\n",
    "\n",
    "data = pd.read_csv(r\"C:\\Users\\Saloni Verma\\Desktop\\student performance\\Student_Performance.csv\")"
   ]
  },
  {
   "cell_type": "code",
   "execution_count": 5,
   "id": "ad0570f0",
   "metadata": {
    "execution": {
     "iopub.execute_input": "2023-11-11T01:59:08.020476Z",
     "iopub.status.busy": "2023-11-11T01:59:08.020051Z",
     "iopub.status.idle": "2023-11-11T01:59:08.043135Z",
     "shell.execute_reply": "2023-11-11T01:59:08.042022Z"
    },
    "papermill": {
     "duration": 0.044959,
     "end_time": "2023-11-11T01:59:08.045548",
     "exception": false,
     "start_time": "2023-11-11T01:59:08.000589",
     "status": "completed"
    },
    "tags": []
   },
   "outputs": [
    {
     "data": {
      "text/html": [
       "<div>\n",
       "<style scoped>\n",
       "    .dataframe tbody tr th:only-of-type {\n",
       "        vertical-align: middle;\n",
       "    }\n",
       "\n",
       "    .dataframe tbody tr th {\n",
       "        vertical-align: top;\n",
       "    }\n",
       "\n",
       "    .dataframe thead th {\n",
       "        text-align: right;\n",
       "    }\n",
       "</style>\n",
       "<table border=\"1\" class=\"dataframe\">\n",
       "  <thead>\n",
       "    <tr style=\"text-align: right;\">\n",
       "      <th></th>\n",
       "      <th>Hours Studied</th>\n",
       "      <th>Previous Scores</th>\n",
       "      <th>Extracurricular Activities</th>\n",
       "      <th>Sleep Hours</th>\n",
       "      <th>Sample Question Papers Practiced</th>\n",
       "      <th>Performance Index</th>\n",
       "    </tr>\n",
       "  </thead>\n",
       "  <tbody>\n",
       "    <tr>\n",
       "      <th>0</th>\n",
       "      <td>7</td>\n",
       "      <td>99</td>\n",
       "      <td>Yes</td>\n",
       "      <td>9</td>\n",
       "      <td>1</td>\n",
       "      <td>91.0</td>\n",
       "    </tr>\n",
       "    <tr>\n",
       "      <th>1</th>\n",
       "      <td>4</td>\n",
       "      <td>82</td>\n",
       "      <td>No</td>\n",
       "      <td>4</td>\n",
       "      <td>2</td>\n",
       "      <td>65.0</td>\n",
       "    </tr>\n",
       "    <tr>\n",
       "      <th>2</th>\n",
       "      <td>8</td>\n",
       "      <td>51</td>\n",
       "      <td>Yes</td>\n",
       "      <td>7</td>\n",
       "      <td>2</td>\n",
       "      <td>45.0</td>\n",
       "    </tr>\n",
       "    <tr>\n",
       "      <th>3</th>\n",
       "      <td>5</td>\n",
       "      <td>52</td>\n",
       "      <td>Yes</td>\n",
       "      <td>5</td>\n",
       "      <td>2</td>\n",
       "      <td>36.0</td>\n",
       "    </tr>\n",
       "    <tr>\n",
       "      <th>4</th>\n",
       "      <td>7</td>\n",
       "      <td>75</td>\n",
       "      <td>No</td>\n",
       "      <td>8</td>\n",
       "      <td>5</td>\n",
       "      <td>66.0</td>\n",
       "    </tr>\n",
       "  </tbody>\n",
       "</table>\n",
       "</div>"
      ],
      "text/plain": [
       "   Hours Studied  Previous Scores Extracurricular Activities  Sleep Hours  \\\n",
       "0              7               99                        Yes            9   \n",
       "1              4               82                         No            4   \n",
       "2              8               51                        Yes            7   \n",
       "3              5               52                        Yes            5   \n",
       "4              7               75                         No            8   \n",
       "\n",
       "   Sample Question Papers Practiced  Performance Index  \n",
       "0                                 1               91.0  \n",
       "1                                 2               65.0  \n",
       "2                                 2               45.0  \n",
       "3                                 2               36.0  \n",
       "4                                 5               66.0  "
      ]
     },
     "execution_count": 5,
     "metadata": {},
     "output_type": "execute_result"
    }
   ],
   "source": [
    "# see top 5 rows\n",
    "\n",
    "data.head()"
   ]
  },
  {
   "cell_type": "code",
   "execution_count": 6,
   "id": "44420183",
   "metadata": {
    "execution": {
     "iopub.execute_input": "2023-11-11T01:59:08.084392Z",
     "iopub.status.busy": "2023-11-11T01:59:08.083946Z",
     "iopub.status.idle": "2023-11-11T01:59:08.110524Z",
     "shell.execute_reply": "2023-11-11T01:59:08.109716Z"
    },
    "papermill": {
     "duration": 0.050303,
     "end_time": "2023-11-11T01:59:08.113902",
     "exception": false,
     "start_time": "2023-11-11T01:59:08.063599",
     "status": "completed"
    },
    "tags": []
   },
   "outputs": [
    {
     "name": "stdout",
     "output_type": "stream",
     "text": [
      "<class 'pandas.core.frame.DataFrame'>\n",
      "RangeIndex: 10000 entries, 0 to 9999\n",
      "Data columns (total 6 columns):\n",
      " #   Column                            Non-Null Count  Dtype  \n",
      "---  ------                            --------------  -----  \n",
      " 0   Hours Studied                     10000 non-null  int64  \n",
      " 1   Previous Scores                   10000 non-null  int64  \n",
      " 2   Extracurricular Activities        10000 non-null  object \n",
      " 3   Sleep Hours                       10000 non-null  int64  \n",
      " 4   Sample Question Papers Practiced  10000 non-null  int64  \n",
      " 5   Performance Index                 10000 non-null  float64\n",
      "dtypes: float64(1), int64(4), object(1)\n",
      "memory usage: 468.9+ KB\n"
     ]
    }
   ],
   "source": [
    "# see column data type and some info\n",
    "\n",
    "data.info()"
   ]
  },
  {
   "cell_type": "code",
   "execution_count": 7,
   "id": "197bb750",
   "metadata": {
    "execution": {
     "iopub.execute_input": "2023-11-11T01:59:08.153286Z",
     "iopub.status.busy": "2023-11-11T01:59:08.152178Z",
     "iopub.status.idle": "2023-11-11T01:59:08.163781Z",
     "shell.execute_reply": "2023-11-11T01:59:08.162752Z"
    },
    "papermill": {
     "duration": 0.033335,
     "end_time": "2023-11-11T01:59:08.165949",
     "exception": false,
     "start_time": "2023-11-11T01:59:08.132614",
     "status": "completed"
    },
    "tags": []
   },
   "outputs": [
    {
     "data": {
      "text/plain": [
       "Hours Studied                       0.0\n",
       "Previous Scores                     0.0\n",
       "Extracurricular Activities          0.0\n",
       "Sleep Hours                         0.0\n",
       "Sample Question Papers Practiced    0.0\n",
       "Performance Index                   0.0\n",
       "dtype: float64"
      ]
     },
     "execution_count": 7,
     "metadata": {},
     "output_type": "execute_result"
    }
   ],
   "source": [
    "# missing value in each column\n",
    "\n",
    "data.isna().sum() "
   ]
  },
  {
   "cell_type": "code",
   "execution_count": 8,
   "id": "e23d4a9b",
   "metadata": {
    "execution": {
     "iopub.execute_input": "2023-11-11T01:59:08.206041Z",
     "iopub.status.busy": "2023-11-11T01:59:08.205010Z",
     "iopub.status.idle": "2023-11-11T01:59:08.212115Z",
     "shell.execute_reply": "2023-11-11T01:59:08.211101Z"
    },
    "papermill": {
     "duration": 0.030002,
     "end_time": "2023-11-11T01:59:08.214476",
     "exception": false,
     "start_time": "2023-11-11T01:59:08.184474",
     "status": "completed"
    },
    "tags": []
   },
   "outputs": [
    {
     "data": {
      "text/plain": [
       "(10000, 6)"
      ]
     },
     "execution_count": 8,
     "metadata": {},
     "output_type": "execute_result"
    }
   ],
   "source": [
    "# see dimensions\n",
    "\n",
    "data.shape"
   ]
  },
  {
   "cell_type": "code",
   "execution_count": 44,
   "id": "fb78d9e7",
   "metadata": {},
   "outputs": [
    {
     "data": {
      "text/plain": [
       "127"
      ]
     },
     "execution_count": 44,
     "metadata": {},
     "output_type": "execute_result"
    }
   ],
   "source": [
    "data.duplicated().sum()"
   ]
  },
  {
   "cell_type": "code",
   "execution_count": 45,
   "id": "1a5684b1",
   "metadata": {},
   "outputs": [
    {
     "data": {
      "text/plain": [
       "(9873, 6)"
      ]
     },
     "execution_count": 45,
     "metadata": {},
     "output_type": "execute_result"
    }
   ],
   "source": [
    "data.drop_duplicates(inplace = True)\n",
    "data.shape"
   ]
  },
  {
   "cell_type": "code",
   "execution_count": 46,
   "id": "d04a11a3",
   "metadata": {},
   "outputs": [
    {
     "data": {
      "text/plain": [
       "Hours Studied                       0\n",
       "Previous Scores                     0\n",
       "Extracurricular Activities          0\n",
       "Sleep Hours                         0\n",
       "Sample Question Papers Practiced    0\n",
       "Performance Index                   0\n",
       "dtype: int64"
      ]
     },
     "execution_count": 46,
     "metadata": {},
     "output_type": "execute_result"
    }
   ],
   "source": [
    "data.isnull().sum()  \n"
   ]
  },
  {
   "cell_type": "code",
   "execution_count": 47,
   "id": "408b711c",
   "metadata": {
    "execution": {
     "iopub.execute_input": "2023-11-11T01:59:08.343165Z",
     "iopub.status.busy": "2023-11-11T01:59:08.342520Z",
     "iopub.status.idle": "2023-11-11T01:59:08.370787Z",
     "shell.execute_reply": "2023-11-11T01:59:08.369949Z"
    },
    "papermill": {
     "duration": 0.050848,
     "end_time": "2023-11-11T01:59:08.373422",
     "exception": false,
     "start_time": "2023-11-11T01:59:08.322574",
     "status": "completed"
    },
    "tags": []
   },
   "outputs": [
    {
     "data": {
      "text/html": [
       "<div>\n",
       "<style scoped>\n",
       "    .dataframe tbody tr th:only-of-type {\n",
       "        vertical-align: middle;\n",
       "    }\n",
       "\n",
       "    .dataframe tbody tr th {\n",
       "        vertical-align: top;\n",
       "    }\n",
       "\n",
       "    .dataframe thead th {\n",
       "        text-align: right;\n",
       "    }\n",
       "</style>\n",
       "<table border=\"1\" class=\"dataframe\">\n",
       "  <thead>\n",
       "    <tr style=\"text-align: right;\">\n",
       "      <th></th>\n",
       "      <th>Hours Studied</th>\n",
       "      <th>Previous Scores</th>\n",
       "      <th>Extracurricular Activities</th>\n",
       "      <th>Sleep Hours</th>\n",
       "      <th>Sample Question Papers Practiced</th>\n",
       "      <th>Performance Index</th>\n",
       "    </tr>\n",
       "  </thead>\n",
       "  <tbody>\n",
       "    <tr>\n",
       "      <th>count</th>\n",
       "      <td>9873.000000</td>\n",
       "      <td>9873.000000</td>\n",
       "      <td>9873.000000</td>\n",
       "      <td>9873.000000</td>\n",
       "      <td>9873.000000</td>\n",
       "      <td>9873.000000</td>\n",
       "    </tr>\n",
       "    <tr>\n",
       "      <th>mean</th>\n",
       "      <td>4.992100</td>\n",
       "      <td>69.441102</td>\n",
       "      <td>0.494986</td>\n",
       "      <td>6.531652</td>\n",
       "      <td>4.583004</td>\n",
       "      <td>55.216651</td>\n",
       "    </tr>\n",
       "    <tr>\n",
       "      <th>std</th>\n",
       "      <td>2.589081</td>\n",
       "      <td>17.325601</td>\n",
       "      <td>0.500000</td>\n",
       "      <td>1.697683</td>\n",
       "      <td>2.867202</td>\n",
       "      <td>19.208570</td>\n",
       "    </tr>\n",
       "    <tr>\n",
       "      <th>min</th>\n",
       "      <td>1.000000</td>\n",
       "      <td>40.000000</td>\n",
       "      <td>0.000000</td>\n",
       "      <td>4.000000</td>\n",
       "      <td>0.000000</td>\n",
       "      <td>10.000000</td>\n",
       "    </tr>\n",
       "    <tr>\n",
       "      <th>25%</th>\n",
       "      <td>3.000000</td>\n",
       "      <td>54.000000</td>\n",
       "      <td>0.000000</td>\n",
       "      <td>5.000000</td>\n",
       "      <td>2.000000</td>\n",
       "      <td>40.000000</td>\n",
       "    </tr>\n",
       "    <tr>\n",
       "      <th>50%</th>\n",
       "      <td>5.000000</td>\n",
       "      <td>69.000000</td>\n",
       "      <td>0.000000</td>\n",
       "      <td>7.000000</td>\n",
       "      <td>5.000000</td>\n",
       "      <td>55.000000</td>\n",
       "    </tr>\n",
       "    <tr>\n",
       "      <th>75%</th>\n",
       "      <td>7.000000</td>\n",
       "      <td>85.000000</td>\n",
       "      <td>1.000000</td>\n",
       "      <td>8.000000</td>\n",
       "      <td>7.000000</td>\n",
       "      <td>70.000000</td>\n",
       "    </tr>\n",
       "    <tr>\n",
       "      <th>max</th>\n",
       "      <td>9.000000</td>\n",
       "      <td>99.000000</td>\n",
       "      <td>1.000000</td>\n",
       "      <td>9.000000</td>\n",
       "      <td>9.000000</td>\n",
       "      <td>100.000000</td>\n",
       "    </tr>\n",
       "  </tbody>\n",
       "</table>\n",
       "</div>"
      ],
      "text/plain": [
       "       Hours Studied  Previous Scores  Extracurricular Activities  \\\n",
       "count    9873.000000      9873.000000                 9873.000000   \n",
       "mean        4.992100        69.441102                    0.494986   \n",
       "std         2.589081        17.325601                    0.500000   \n",
       "min         1.000000        40.000000                    0.000000   \n",
       "25%         3.000000        54.000000                    0.000000   \n",
       "50%         5.000000        69.000000                    0.000000   \n",
       "75%         7.000000        85.000000                    1.000000   \n",
       "max         9.000000        99.000000                    1.000000   \n",
       "\n",
       "       Sleep Hours  Sample Question Papers Practiced  Performance Index  \n",
       "count  9873.000000                       9873.000000        9873.000000  \n",
       "mean      6.531652                          4.583004          55.216651  \n",
       "std       1.697683                          2.867202          19.208570  \n",
       "min       4.000000                          0.000000          10.000000  \n",
       "25%       5.000000                          2.000000          40.000000  \n",
       "50%       7.000000                          5.000000          55.000000  \n",
       "75%       8.000000                          7.000000          70.000000  \n",
       "max       9.000000                          9.000000         100.000000  "
      ]
     },
     "execution_count": 47,
     "metadata": {},
     "output_type": "execute_result"
    }
   ],
   "source": [
    "# see quick info of numeric values\n",
    "\n",
    "data.describe()"
   ]
  },
  {
   "cell_type": "markdown",
   "id": "7d8a67b0",
   "metadata": {
    "papermill": {
     "duration": 0.019333,
     "end_time": "2023-11-11T01:59:08.533359",
     "exception": false,
     "start_time": "2023-11-11T01:59:08.514026",
     "status": "completed"
    },
    "tags": []
   },
   "source": [
    "**We Can see :**\n",
    "   - Dataset has no null values\n",
    "   "
   ]
  },
  {
   "cell_type": "markdown",
   "id": "c681bde6",
   "metadata": {
    "papermill": {
     "duration": 0.019151,
     "end_time": "2023-11-11T01:59:08.571999",
     "exception": false,
     "start_time": "2023-11-11T01:59:08.552848",
     "status": "completed"
    },
    "tags": []
   },
   "source": [
    "## Univariate Analysis & Visualizations"
   ]
  },
  {
   "cell_type": "code",
   "execution_count": 67,
   "id": "c1d685de",
   "metadata": {
    "execution": {
     "iopub.execute_input": "2023-11-11T01:59:08.612719Z",
     "iopub.status.busy": "2023-11-11T01:59:08.612296Z",
     "iopub.status.idle": "2023-11-11T01:59:08.619362Z",
     "shell.execute_reply": "2023-11-11T01:59:08.618363Z"
    },
    "papermill": {
     "duration": 0.030442,
     "end_time": "2023-11-11T01:59:08.621814",
     "exception": false,
     "start_time": "2023-11-11T01:59:08.591372",
     "status": "completed"
    },
    "tags": []
   },
   "outputs": [],
   "source": [
    "# create function to visualized categorical column using count plot\n",
    "\n",
    "def count_plot(column_name, hue = None, rotation = 0):\n",
    "    \n",
    "    graph = sns.countplot(x = column_name, data = data, hue = hue, order = data[column_name].value_counts().index)\n",
    "    for container in graph.containers:\n",
    "        graph.bar_label(container)\n",
    "        \n",
    "        \n",
    "    plt.xticks(rotation = rotation)\n",
    "    plt.show()"
   ]
  },
  {
   "cell_type": "code",
   "execution_count": 68,
   "id": "22c42329",
   "metadata": {
    "execution": {
     "iopub.execute_input": "2023-11-11T01:59:08.663456Z",
     "iopub.status.busy": "2023-11-11T01:59:08.662696Z",
     "iopub.status.idle": "2023-11-11T01:59:08.669080Z",
     "shell.execute_reply": "2023-11-11T01:59:08.668345Z"
    },
    "papermill": {
     "duration": 0.03012,
     "end_time": "2023-11-11T01:59:08.671367",
     "exception": false,
     "start_time": "2023-11-11T01:59:08.641247",
     "status": "completed"
    },
    "tags": []
   },
   "outputs": [],
   "source": [
    "# create function that visualized numeric columns using box plot\n",
    "\n",
    "def box_plot(x_axis = None, y_axis = None, hue = None, col = None):\n",
    "    \n",
    "    sns.catplot(x = x_axis, y = y_axis, data = data, hue = hue, kind = \"box\", col = col)\n",
    "    plt.xlabel(x_axis)\n",
    "    plt.ylabel(\"FRQ\")\n",
    "    plt.show()"
   ]
  },
  {
   "cell_type": "markdown",
   "id": "01cbd5b8",
   "metadata": {
    "papermill": {
     "duration": 0.01914,
     "end_time": "2023-11-11T01:59:08.709661",
     "exception": false,
     "start_time": "2023-11-11T01:59:08.690521",
     "status": "completed"
    },
    "tags": []
   },
   "source": [
    "### Discovering `Hours Studied` column"
   ]
  },
  {
   "cell_type": "code",
   "execution_count": 69,
   "id": "415d65e3",
   "metadata": {
    "execution": {
     "iopub.execute_input": "2023-11-11T01:59:08.749912Z",
     "iopub.status.busy": "2023-11-11T01:59:08.749546Z",
     "iopub.status.idle": "2023-11-11T01:59:08.756479Z",
     "shell.execute_reply": "2023-11-11T01:59:08.755479Z"
    },
    "papermill": {
     "duration": 0.030107,
     "end_time": "2023-11-11T01:59:08.758893",
     "exception": false,
     "start_time": "2023-11-11T01:59:08.728786",
     "status": "completed"
    },
    "tags": []
   },
   "outputs": [
    {
     "data": {
      "text/plain": [
       "array([7, 4, 8, 5, 3, 6, 2, 1, 9], dtype=int64)"
      ]
     },
     "execution_count": 69,
     "metadata": {},
     "output_type": "execute_result"
    }
   ],
   "source": [
    "# see uniqie values\n",
    "\n",
    "data[\"Hours Studied\"].unique()"
   ]
  },
  {
   "cell_type": "code",
   "execution_count": 70,
   "id": "90bc1f83",
   "metadata": {
    "execution": {
     "iopub.execute_input": "2023-11-11T01:59:08.798722Z",
     "iopub.status.busy": "2023-11-11T01:59:08.798342Z",
     "iopub.status.idle": "2023-11-11T01:59:09.263338Z",
     "shell.execute_reply": "2023-11-11T01:59:09.262251Z"
    },
    "papermill": {
     "duration": 0.488163,
     "end_time": "2023-11-11T01:59:09.265970",
     "exception": false,
     "start_time": "2023-11-11T01:59:08.777807",
     "status": "completed"
    },
    "tags": []
   },
   "outputs": [
    {
     "data": {
      "image/png": "[encoded data removed]",
      "text/plain": [
       "<Figure size 1500x600 with 1 Axes>"
      ]
     },
     "metadata": {},
     "output_type": "display_data"
    }
   ],
   "source": [
    "# number of unique values is relatively large, count plot more suitable for it\n",
    "\n",
    "plt.figure(figsize = (15,6))\n",
    "\n",
    "count_plot(column_name = \"Hours Studied\") "
   ]
  },
  {
   "cell_type": "markdown",
   "id": "2d0e46af",
   "metadata": {
    "papermill": {
     "duration": 0.019636,
     "end_time": "2023-11-11T01:59:09.306062",
     "exception": false,
     "start_time": "2023-11-11T01:59:09.286426",
     "status": "completed"
    },
    "tags": []
   },
   "source": [
    "**We can see :**\n",
    "   - Most student studied \"1\" hour\n",
    "   - Other students studied Similar numbers of hours"
   ]
  },
  {
   "cell_type": "markdown",
   "id": "4f4172be",
   "metadata": {
    "papermill": {
     "duration": 0.019631,
     "end_time": "2023-11-11T01:59:09.345773",
     "exception": false,
     "start_time": "2023-11-11T01:59:09.326142",
     "status": "completed"
    },
    "tags": []
   },
   "source": [
    "### Discovering `Previous Scores` column"
   ]
  },
  {
   "cell_type": "code",
   "execution_count": 71,
   "id": "8492b480",
   "metadata": {
    "execution": {
     "iopub.execute_input": "2023-11-11T01:59:09.387802Z",
     "iopub.status.busy": "2023-11-11T01:59:09.387380Z",
     "iopub.status.idle": "2023-11-11T01:59:09.680044Z",
     "shell.execute_reply": "2023-11-11T01:59:09.678889Z"
    },
    "papermill": {
     "duration": 0.316913,
     "end_time": "2023-11-11T01:59:09.682930",
     "exception": false,
     "start_time": "2023-11-11T01:59:09.366017",
     "status": "completed"
    },
    "tags": []
   },
   "outputs": [
    {
     "name": "stderr",
     "output_type": "stream",
     "text": [
      "C:\\Users\\Saloni Verma\\AppData\\Local\\anaconda3\\Lib\\site-packages\\seaborn\\axisgrid.py:118: UserWarning: The figure layout has changed to tight\n",
      "  self._figure.tight_layout(*args, **kwargs)\n"
     ]
    },
    {
     "data": {
      "image/png": "[encoded data removed]",
      "text/plain": [
       "<Figure size 500x500 with 1 Axes>"
      ]
     },
     "metadata": {},
     "output_type": "display_data"
    }
   ],
   "source": [
    "# see distribution \n",
    "\n",
    "box_plot(y_axis = \"Previous Scores\") "
   ]
  },
  {
   "cell_type": "markdown",
   "id": "74840c17",
   "metadata": {
    "papermill": {
     "duration": 0.020385,
     "end_time": "2023-11-11T01:59:09.724505",
     "exception": false,
     "start_time": "2023-11-11T01:59:09.704120",
     "status": "completed"
    },
    "tags": []
   },
   "source": [
    "**We can see :**\n",
    "   - 50 % of students scored above about 70\n",
    "   "
   ]
  },
  {
   "cell_type": "markdown",
   "id": "88a765ef",
   "metadata": {
    "papermill": {
     "duration": 0.019101,
     "end_time": "2023-11-11T01:59:09.764339",
     "exception": false,
     "start_time": "2023-11-11T01:59:09.745238",
     "status": "completed"
    },
    "tags": []
   },
   "source": [
    "### Discovering `Extracurricular Activities` column"
   ]
  },
  {
   "cell_type": "code",
   "execution_count": 72,
   "id": "d496dfdb",
   "metadata": {
    "execution": {
     "iopub.execute_input": "2023-11-11T01:59:09.807008Z",
     "iopub.status.busy": "2023-11-11T01:59:09.806336Z",
     "iopub.status.idle": "2023-11-11T01:59:09.814076Z",
     "shell.execute_reply": "2023-11-11T01:59:09.813346Z"
    },
    "papermill": {
     "duration": 0.031979,
     "end_time": "2023-11-11T01:59:09.816291",
     "exception": false,
     "start_time": "2023-11-11T01:59:09.784312",
     "status": "completed"
    },
    "tags": []
   },
   "outputs": [
    {
     "data": {
      "text/plain": [
       "array([1, 0])"
      ]
     },
     "execution_count": 72,
     "metadata": {},
     "output_type": "execute_result"
    }
   ],
   "source": [
    "# see unique values\n",
    "\n",
    "data[\"Extracurricular Activities\"].unique()"
   ]
  },
  {
   "cell_type": "code",
   "execution_count": 73,
   "id": "e3872d02",
   "metadata": {
    "execution": {
     "iopub.execute_input": "2023-11-11T01:59:09.859770Z",
     "iopub.status.busy": "2023-11-11T01:59:09.859131Z",
     "iopub.status.idle": "2023-11-11T01:59:10.038781Z",
     "shell.execute_reply": "2023-11-11T01:59:10.037303Z"
    },
    "papermill": {
     "duration": 0.206386,
     "end_time": "2023-11-11T01:59:10.043406",
     "exception": false,
     "start_time": "2023-11-11T01:59:09.837020",
     "status": "completed"
    },
    "tags": []
   },
   "outputs": [
    {
     "data": {
      "image/png": "[encoded data removed]",
      "text/plain": [
       "<Figure size 640x480 with 1 Axes>"
      ]
     },
     "metadata": {},
     "output_type": "display_data"
    }
   ],
   "source": [
    "# output number of values count\n",
    "\n",
    "plt.pie(data[\"Extracurricular Activities\"].value_counts(), labels = data[\"Extracurricular Activities\"].value_counts().index, \n",
    "        shadow = True, autopct = \"%1.1f%%\")\n",
    "plt.show()"
   ]
  },
  {
   "cell_type": "markdown",
   "id": "8cc65cf0",
   "metadata": {
    "papermill": {
     "duration": 0.027154,
     "end_time": "2023-11-11T01:59:10.115219",
     "exception": false,
     "start_time": "2023-11-11T01:59:10.088065",
     "status": "completed"
    },
    "tags": []
   },
   "source": [
    "**We can see :**\n",
    "   - Most student \"don't\" participate in extracurricular activities"
   ]
  },
  {
   "cell_type": "markdown",
   "id": "41ce61be",
   "metadata": {
    "papermill": {
     "duration": 0.021304,
     "end_time": "2023-11-11T01:59:10.157739",
     "exception": false,
     "start_time": "2023-11-11T01:59:10.136435",
     "status": "completed"
    },
    "tags": []
   },
   "source": [
    "### Discovering `Sleep Hours` column"
   ]
  },
  {
   "cell_type": "code",
   "execution_count": 74,
   "id": "43f34bb2",
   "metadata": {
    "execution": {
     "iopub.execute_input": "2023-11-11T01:59:10.201985Z",
     "iopub.status.busy": "2023-11-11T01:59:10.201245Z",
     "iopub.status.idle": "2023-11-11T01:59:10.209043Z",
     "shell.execute_reply": "2023-11-11T01:59:10.207865Z"
    },
    "papermill": {
     "duration": 0.032592,
     "end_time": "2023-11-11T01:59:10.211455",
     "exception": false,
     "start_time": "2023-11-11T01:59:10.178863",
     "status": "completed"
    },
    "tags": []
   },
   "outputs": [
    {
     "data": {
      "text/plain": [
       "array([9, 4, 7, 5, 8, 6], dtype=int64)"
      ]
     },
     "execution_count": 74,
     "metadata": {},
     "output_type": "execute_result"
    }
   ],
   "source": [
    "# see unique values\n",
    "\n",
    "data[\"Sleep Hours\"].unique()"
   ]
  },
  {
   "cell_type": "code",
   "execution_count": 75,
   "id": "447cec49",
   "metadata": {
    "execution": {
     "iopub.execute_input": "2023-11-11T01:59:10.255893Z",
     "iopub.status.busy": "2023-11-11T01:59:10.255465Z",
     "iopub.status.idle": "2023-11-11T01:59:10.584187Z",
     "shell.execute_reply": "2023-11-11T01:59:10.583436Z"
    },
    "papermill": {
     "duration": 0.353723,
     "end_time": "2023-11-11T01:59:10.586372",
     "exception": false,
     "start_time": "2023-11-11T01:59:10.232649",
     "status": "completed"
    },
    "tags": []
   },
   "outputs": [
    {
     "data": {
      "image/png": "[encoded data removed]",
      "text/plain": [
       "<Figure size 1500x600 with 1 Axes>"
      ]
     },
     "metadata": {},
     "output_type": "display_data"
    }
   ],
   "source": [
    "# number of unique values is relatively large, count plot more suitable for it\n",
    "\n",
    "plt.figure(figsize = (15,6))\n",
    "\n",
    "count_plot(column_name = \"Sleep Hours\")"
   ]
  },
  {
   "cell_type": "markdown",
   "id": "9fbb898b",
   "metadata": {
    "papermill": {
     "duration": 0.021381,
     "end_time": "2023-11-11T01:59:10.629957",
     "exception": false,
     "start_time": "2023-11-11T01:59:10.608576",
     "status": "completed"
    },
    "tags": []
   },
   "source": [
    "**We can see :**\n",
    "   - Most student Sleep 8 hours\n",
    "   - Other students sleep Similar numbers of hours\n"
   ]
  },
  {
   "cell_type": "markdown",
   "id": "625773ee",
   "metadata": {
    "papermill": {
     "duration": 0.021833,
     "end_time": "2023-11-11T01:59:10.673744",
     "exception": false,
     "start_time": "2023-11-11T01:59:10.651911",
     "status": "completed"
    },
    "tags": []
   },
   "source": [
    "### Discovering `Sample Question Papers Practiced` column"
   ]
  },
  {
   "cell_type": "code",
   "execution_count": 76,
   "id": "a348a382",
   "metadata": {
    "execution": {
     "iopub.execute_input": "2023-11-11T01:59:10.719278Z",
     "iopub.status.busy": "2023-11-11T01:59:10.718560Z",
     "iopub.status.idle": "2023-11-11T01:59:10.724973Z",
     "shell.execute_reply": "2023-11-11T01:59:10.724186Z"
    },
    "papermill": {
     "duration": 0.031664,
     "end_time": "2023-11-11T01:59:10.727048",
     "exception": false,
     "start_time": "2023-11-11T01:59:10.695384",
     "status": "completed"
    },
    "tags": []
   },
   "outputs": [
    {
     "data": {
      "text/plain": [
       "array([1, 2, 5, 6, 0, 8, 3, 4, 9, 7], dtype=int64)"
      ]
     },
     "execution_count": 76,
     "metadata": {},
     "output_type": "execute_result"
    }
   ],
   "source": [
    "# see unique values\n",
    "\n",
    "data[\"Sample Question Papers Practiced\"].unique()"
   ]
  },
  {
   "cell_type": "code",
   "execution_count": 77,
   "id": "629f50f0",
   "metadata": {
    "execution": {
     "iopub.execute_input": "2023-11-11T01:59:10.771988Z",
     "iopub.status.busy": "2023-11-11T01:59:10.771311Z",
     "iopub.status.idle": "2023-11-11T01:59:11.121306Z",
     "shell.execute_reply": "2023-11-11T01:59:11.120222Z"
    },
    "papermill": {
     "duration": 0.375363,
     "end_time": "2023-11-11T01:59:11.123704",
     "exception": false,
     "start_time": "2023-11-11T01:59:10.748341",
     "status": "completed"
    },
    "tags": []
   },
   "outputs": [
    {
     "data": {
      "image/png": "[encoded data removed]",
      "text/plain": [
       "<Figure size 1500x600 with 1 Axes>"
      ]
     },
     "metadata": {},
     "output_type": "display_data"
    }
   ],
   "source": [
    "\n",
    "plt.figure(figsize = (15,6))\n",
    "\n",
    "count_plot(column_name = \"Sample Question Papers Practiced\")"
   ]
  },
  {
   "cell_type": "markdown",
   "id": "064c6730",
   "metadata": {
    "papermill": {
     "duration": 0.021932,
     "end_time": "2023-11-11T01:59:11.168378",
     "exception": false,
     "start_time": "2023-11-11T01:59:11.146446",
     "status": "completed"
    },
    "tags": []
   },
   "source": [
    "**We can see :**\n",
    "   - All student have Similar The number of sample question papers the practiced.\n",
    "   - **There are students who did not practice any questions**"
   ]
  },
  {
   "cell_type": "markdown",
   "id": "681a5e23",
   "metadata": {
    "papermill": {
     "duration": 0.022371,
     "end_time": "2023-11-11T01:59:11.213827",
     "exception": false,
     "start_time": "2023-11-11T01:59:11.191456",
     "status": "completed"
    },
    "tags": []
   },
   "source": [
    "## Bivariate Analysis & Visualizations"
   ]
  },
  {
   "cell_type": "code",
   "execution_count": 78,
   "id": "53a04cab",
   "metadata": {
    "execution": {
     "iopub.execute_input": "2023-11-11T01:59:11.260014Z",
     "iopub.status.busy": "2023-11-11T01:59:11.259606Z",
     "iopub.status.idle": "2023-11-11T01:59:11.859883Z",
     "shell.execute_reply": "2023-11-11T01:59:11.858790Z"
    },
    "papermill": {
     "duration": 0.626357,
     "end_time": "2023-11-11T01:59:11.862661",
     "exception": false,
     "start_time": "2023-11-11T01:59:11.236304",
     "status": "completed"
    },
    "tags": []
   },
   "outputs": [
    {
     "name": "stderr",
     "output_type": "stream",
     "text": [
      "C:\\Users\\Saloni Verma\\AppData\\Local\\anaconda3\\Lib\\site-packages\\seaborn\\axisgrid.py:118: UserWarning: The figure layout has changed to tight\n",
      "  self._figure.tight_layout(*args, **kwargs)\n"
     ]
    },
    {
     "data": {
      "image/png": "[encoded data removed]",
      "text/plain": [
       "<Figure size 500x500 with 1 Axes>"
      ]
     },
     "metadata": {},
     "output_type": "display_data"
    }
   ],
   "source": [
    "# What is \"Hours Studied\" and \"Performance Index\" distribution\n",
    "\n",
    "box_plot(x_axis = \"Hours Studied\", y_axis = \"Performance Index\")"
   ]
  },
  {
   "cell_type": "markdown",
   "id": "87d04f5c",
   "metadata": {
    "papermill": {
     "duration": 0.023523,
     "end_time": "2023-11-11T01:59:11.912277",
     "exception": false,
     "start_time": "2023-11-11T01:59:11.888754",
     "status": "completed"
    },
    "tags": []
   },
   "source": [
    "- As we can see, the more hours you study, the greater the success rate"
   ]
  },
  {
   "cell_type": "code",
   "execution_count": 79,
   "id": "3244ab45",
   "metadata": {
    "execution": {
     "iopub.execute_input": "2023-11-11T01:59:11.960979Z",
     "iopub.status.busy": "2023-11-11T01:59:11.960298Z",
     "iopub.status.idle": "2023-11-11T01:59:12.408902Z",
     "shell.execute_reply": "2023-11-11T01:59:12.407996Z"
    },
    "papermill": {
     "duration": 0.475362,
     "end_time": "2023-11-11T01:59:12.411369",
     "exception": false,
     "start_time": "2023-11-11T01:59:11.936007",
     "status": "completed"
    },
    "tags": []
   },
   "outputs": [
    {
     "name": "stderr",
     "output_type": "stream",
     "text": [
      "C:\\Users\\Saloni Verma\\AppData\\Local\\anaconda3\\Lib\\site-packages\\seaborn\\axisgrid.py:118: UserWarning: The figure layout has changed to tight\n",
      "  self._figure.tight_layout(*args, **kwargs)\n"
     ]
    },
    {
     "data": {
      "image/png": "[encoded data removed]",
      "text/plain": [
       "<Figure size 500x500 with 1 Axes>"
      ]
     },
     "metadata": {},
     "output_type": "display_data"
    }
   ],
   "source": [
    "# What is \"\tExtracurricular Activities\" and \"Performance Index\" distribution\n",
    "\n",
    "box_plot(x_axis = \"Extracurricular Activities\", y_axis = \"Performance Index\") "
   ]
  },
  {
   "cell_type": "markdown",
   "id": "05bbe2d0",
   "metadata": {
    "papermill": {
     "duration": 0.022962,
     "end_time": "2023-11-11T01:59:12.456961",
     "exception": false,
     "start_time": "2023-11-11T01:59:12.433999",
     "status": "completed"
    },
    "tags": []
   },
   "source": [
    "- Participation in extracurricular activities helps to a very small extent in obtaining high grades"
   ]
  },
  {
   "cell_type": "code",
   "execution_count": 80,
   "id": "afcc63f1",
   "metadata": {
    "execution": {
     "iopub.execute_input": "2023-11-11T01:59:12.505514Z",
     "iopub.status.busy": "2023-11-11T01:59:12.505068Z",
     "iopub.status.idle": "2023-11-11T01:59:12.863307Z",
     "shell.execute_reply": "2023-11-11T01:59:12.862234Z"
    },
    "papermill": {
     "duration": 0.385418,
     "end_time": "2023-11-11T01:59:12.865815",
     "exception": false,
     "start_time": "2023-11-11T01:59:12.480397",
     "status": "completed"
    },
    "tags": []
   },
   "outputs": [
    {
     "data": {
      "image/png": "[encoded data removed]",
      "text/plain": [
       "<Figure size 640x480 with 1 Axes>"
      ]
     },
     "metadata": {},
     "output_type": "display_data"
    }
   ],
   "source": [
    "# What is  \"Performance Index\" distribution\n",
    "\n",
    "avg_performance_by_hours = data.groupby('Hours Studied')['Performance Index'].mean()\n",
    "plt.plot(avg_performance_by_hours.index, avg_performance_by_hours.values)\n",
    "plt.show()"
   ]
  },
  {
   "cell_type": "markdown",
   "id": "58e7c2ca",
   "metadata": {
    "papermill": {
     "duration": 0.023439,
     "end_time": "2023-11-11T01:59:12.912574",
     "exception": false,
     "start_time": "2023-11-11T01:59:12.889135",
     "status": "completed"
    },
    "tags": []
   },
   "source": [
    "- The more hours you sleep, Performance index increase"
   ]
  },
  {
   "cell_type": "markdown",
   "id": "2f9dff1c",
   "metadata": {
    "papermill": {
     "duration": 0.022657,
     "end_time": "2023-11-11T01:59:12.957823",
     "exception": false,
     "start_time": "2023-11-11T01:59:12.935166",
     "status": "completed"
    },
    "tags": []
   },
   "source": [
    "### Heatmap of Correlation"
   ]
  },
  {
   "cell_type": "code",
   "execution_count": 81,
   "id": "21f8f9c2",
   "metadata": {
    "execution": {
     "iopub.execute_input": "2023-11-11T01:59:13.008338Z",
     "iopub.status.busy": "2023-11-11T01:59:13.007600Z",
     "iopub.status.idle": "2023-11-11T01:59:13.507050Z",
     "shell.execute_reply": "2023-11-11T01:59:13.506257Z"
    },
    "papermill": {
     "duration": 0.5269,
     "end_time": "2023-11-11T01:59:13.509252",
     "exception": false,
     "start_time": "2023-11-11T01:59:12.982352",
     "status": "completed"
    },
    "tags": []
   },
   "outputs": [
    {
     "data": {
      "image/png": "[encoded data removed]",
      "text/plain": [
       "<Figure size 1000x600 with 2 Axes>"
      ]
     },
     "metadata": {},
     "output_type": "display_data"
    }
   ],
   "source": [
    "# first visualize correlation matrix between numerical columns\n",
    "\n",
    "plt.figure(figsize = (10,6))\n",
    "sns.heatmap(data.select_dtypes(exclude = object).corr(), annot = True, fmt = \".2f\", linewidths = 0.2)\n",
    "plt.show()"
   ]
  },
  {
   "cell_type": "markdown",
   "id": "ddf2de43",
   "metadata": {
    "papermill": {
     "duration": 0.023986,
     "end_time": "2023-11-11T01:59:13.557624",
     "exception": false,
     "start_time": "2023-11-11T01:59:13.533638",
     "status": "completed"
    },
    "tags": []
   },
   "source": [
    "There's a lot of Strong Positive Relationships between Performance Index and Features"
   ]
  },
  {
   "cell_type": "markdown",
   "id": "85bf772c",
   "metadata": {
    "papermill": {
     "duration": 0.023771,
     "end_time": "2023-11-11T01:59:13.605575",
     "exception": false,
     "start_time": "2023-11-11T01:59:13.581804",
     "status": "completed"
    },
    "tags": []
   },
   "source": [
    "##  Data Preprocessing"
   ]
  },
  {
   "cell_type": "code",
   "execution_count": 82,
   "id": "b5577eeb",
   "metadata": {
    "execution": {
     "iopub.execute_input": "2023-11-11T01:59:13.655569Z",
     "iopub.status.busy": "2023-11-11T01:59:13.654802Z",
     "iopub.status.idle": "2023-11-11T01:59:13.985773Z",
     "shell.execute_reply": "2023-11-11T01:59:13.984789Z"
    },
    "papermill": {
     "duration": 0.359226,
     "end_time": "2023-11-11T01:59:13.988602",
     "exception": false,
     "start_time": "2023-11-11T01:59:13.629376",
     "status": "completed"
    },
    "tags": []
   },
   "outputs": [],
   "source": [
    "# import libraries to model\n",
    "\n",
    "from sklearn.preprocessing import LabelEncoder, MinMaxScaler\n",
    "from sklearn.model_selection import train_test_split\n",
    "from sklearn.linear_model import LinearRegression\n",
    "from sklearn.metrics import mean_absolute_error,r2_score"
   ]
  },
  {
   "cell_type": "code",
   "execution_count": 83,
   "id": "3ab8cb24",
   "metadata": {
    "execution": {
     "iopub.execute_input": "2023-11-11T01:59:14.038245Z",
     "iopub.status.busy": "2023-11-11T01:59:14.037848Z",
     "iopub.status.idle": "2023-11-11T01:59:14.046529Z",
     "shell.execute_reply": "2023-11-11T01:59:14.045374Z"
    },
    "papermill": {
     "duration": 0.036164,
     "end_time": "2023-11-11T01:59:14.048865",
     "exception": false,
     "start_time": "2023-11-11T01:59:14.012701",
     "status": "completed"
    },
    "tags": []
   },
   "outputs": [],
   "source": [
    "# create object from labelencoder\n",
    "\n",
    "encoder = LabelEncoder()\n",
    "\n",
    "data[\"Extracurricular Activities\"] =  encoder.fit_transform(data[\"Extracurricular Activities\"])"
   ]
  },
  {
   "cell_type": "code",
   "execution_count": 84,
   "id": "f8ac076e",
   "metadata": {
    "execution": {
     "iopub.execute_input": "2023-11-11T01:59:14.099962Z",
     "iopub.status.busy": "2023-11-11T01:59:14.099331Z",
     "iopub.status.idle": "2023-11-11T01:59:14.112516Z",
     "shell.execute_reply": "2023-11-11T01:59:14.111349Z"
    },
    "papermill": {
     "duration": 0.041497,
     "end_time": "2023-11-11T01:59:14.114993",
     "exception": false,
     "start_time": "2023-11-11T01:59:14.073496",
     "status": "completed"
    },
    "tags": []
   },
   "outputs": [
    {
     "data": {
      "text/html": [
       "<div>\n",
       "<style scoped>\n",
       "    .dataframe tbody tr th:only-of-type {\n",
       "        vertical-align: middle;\n",
       "    }\n",
       "\n",
       "    .dataframe tbody tr th {\n",
       "        vertical-align: top;\n",
       "    }\n",
       "\n",
       "    .dataframe thead th {\n",
       "        text-align: right;\n",
       "    }\n",
       "</style>\n",
       "<table border=\"1\" class=\"dataframe\">\n",
       "  <thead>\n",
       "    <tr style=\"text-align: right;\">\n",
       "      <th></th>\n",
       "      <th>Hours Studied</th>\n",
       "      <th>Previous Scores</th>\n",
       "      <th>Extracurricular Activities</th>\n",
       "      <th>Sleep Hours</th>\n",
       "      <th>Sample Question Papers Practiced</th>\n",
       "      <th>Performance Index</th>\n",
       "    </tr>\n",
       "  </thead>\n",
       "  <tbody>\n",
       "    <tr>\n",
       "      <th>3649</th>\n",
       "      <td>4</td>\n",
       "      <td>61</td>\n",
       "      <td>0</td>\n",
       "      <td>5</td>\n",
       "      <td>0</td>\n",
       "      <td>42.0</td>\n",
       "    </tr>\n",
       "    <tr>\n",
       "      <th>3707</th>\n",
       "      <td>6</td>\n",
       "      <td>84</td>\n",
       "      <td>1</td>\n",
       "      <td>7</td>\n",
       "      <td>7</td>\n",
       "      <td>72.0</td>\n",
       "    </tr>\n",
       "  </tbody>\n",
       "</table>\n",
       "</div>"
      ],
      "text/plain": [
       "      Hours Studied  Previous Scores  Extracurricular Activities  Sleep Hours  \\\n",
       "3649              4               61                           0            5   \n",
       "3707              6               84                           1            7   \n",
       "\n",
       "      Sample Question Papers Practiced  Performance Index  \n",
       "3649                                 0               42.0  \n",
       "3707                                 7               72.0  "
      ]
     },
     "execution_count": 84,
     "metadata": {},
     "output_type": "execute_result"
    }
   ],
   "source": [
    "# see sample of data\n",
    "\n",
    "data.sample(2)"
   ]
  },
  {
   "cell_type": "code",
   "execution_count": 85,
   "id": "deaf0e92",
   "metadata": {
    "execution": {
     "iopub.execute_input": "2023-11-11T01:59:14.166084Z",
     "iopub.status.busy": "2023-11-11T01:59:14.165700Z",
     "iopub.status.idle": "2023-11-11T01:59:14.173264Z",
     "shell.execute_reply": "2023-11-11T01:59:14.172392Z"
    },
    "papermill": {
     "duration": 0.035394,
     "end_time": "2023-11-11T01:59:14.175312",
     "exception": false,
     "start_time": "2023-11-11T01:59:14.139918",
     "status": "completed"
    },
    "tags": []
   },
   "outputs": [],
   "source": [
    "# Splitting data into Indipendent and Dependent Variable\n",
    "\n",
    "Train = data.drop(columns = \"Performance Index\")\n",
    "Target = data[\"Performance Index\"]"
   ]
  },
  {
   "cell_type": "code",
   "execution_count": 86,
   "id": "0655d1a8",
   "metadata": {
    "execution": {
     "iopub.execute_input": "2023-11-11T01:59:14.226419Z",
     "iopub.status.busy": "2023-11-11T01:59:14.225794Z",
     "iopub.status.idle": "2023-11-11T01:59:14.236037Z",
     "shell.execute_reply": "2023-11-11T01:59:14.235303Z"
    },
    "papermill": {
     "duration": 0.038521,
     "end_time": "2023-11-11T01:59:14.238028",
     "exception": false,
     "start_time": "2023-11-11T01:59:14.199507",
     "status": "completed"
    },
    "tags": []
   },
   "outputs": [
    {
     "data": {
      "text/html": [
       "<div>\n",
       "<style scoped>\n",
       "    .dataframe tbody tr th:only-of-type {\n",
       "        vertical-align: middle;\n",
       "    }\n",
       "\n",
       "    .dataframe tbody tr th {\n",
       "        vertical-align: top;\n",
       "    }\n",
       "\n",
       "    .dataframe thead th {\n",
       "        text-align: right;\n",
       "    }\n",
       "</style>\n",
       "<table border=\"1\" class=\"dataframe\">\n",
       "  <thead>\n",
       "    <tr style=\"text-align: right;\">\n",
       "      <th></th>\n",
       "      <th>Hours Studied</th>\n",
       "      <th>Previous Scores</th>\n",
       "      <th>Extracurricular Activities</th>\n",
       "      <th>Sleep Hours</th>\n",
       "      <th>Sample Question Papers Practiced</th>\n",
       "    </tr>\n",
       "  </thead>\n",
       "  <tbody>\n",
       "    <tr>\n",
       "      <th>3235</th>\n",
       "      <td>3</td>\n",
       "      <td>82</td>\n",
       "      <td>0</td>\n",
       "      <td>5</td>\n",
       "      <td>8</td>\n",
       "    </tr>\n",
       "    <tr>\n",
       "      <th>6894</th>\n",
       "      <td>6</td>\n",
       "      <td>72</td>\n",
       "      <td>1</td>\n",
       "      <td>4</td>\n",
       "      <td>9</td>\n",
       "    </tr>\n",
       "    <tr>\n",
       "      <th>5391</th>\n",
       "      <td>7</td>\n",
       "      <td>84</td>\n",
       "      <td>1</td>\n",
       "      <td>7</td>\n",
       "      <td>6</td>\n",
       "    </tr>\n",
       "  </tbody>\n",
       "</table>\n",
       "</div>"
      ],
      "text/plain": [
       "      Hours Studied  Previous Scores  Extracurricular Activities  Sleep Hours  \\\n",
       "3235              3               82                           0            5   \n",
       "6894              6               72                           1            4   \n",
       "5391              7               84                           1            7   \n",
       "\n",
       "      Sample Question Papers Practiced  \n",
       "3235                                 8  \n",
       "6894                                 9  \n",
       "5391                                 6  "
      ]
     },
     "execution_count": 86,
     "metadata": {},
     "output_type": "execute_result"
    }
   ],
   "source": [
    "# see sample of train data\n",
    "\n",
    "Train.sample(3)"
   ]
  },
  {
   "cell_type": "code",
   "execution_count": 87,
   "id": "9595855a",
   "metadata": {
    "execution": {
     "iopub.execute_input": "2023-11-11T01:59:14.289434Z",
     "iopub.status.busy": "2023-11-11T01:59:14.288960Z",
     "iopub.status.idle": "2023-11-11T01:59:14.298078Z",
     "shell.execute_reply": "2023-11-11T01:59:14.296990Z"
    },
    "papermill": {
     "duration": 0.037859,
     "end_time": "2023-11-11T01:59:14.300613",
     "exception": false,
     "start_time": "2023-11-11T01:59:14.262754",
     "status": "completed"
    },
    "tags": []
   },
   "outputs": [
    {
     "data": {
      "text/plain": [
       "0       91.0\n",
       "1       65.0\n",
       "2       45.0\n",
       "3       36.0\n",
       "4       66.0\n",
       "        ... \n",
       "9995    23.0\n",
       "9996    58.0\n",
       "9997    74.0\n",
       "9998    95.0\n",
       "9999    64.0\n",
       "Name: Performance Index, Length: 9873, dtype: float64"
      ]
     },
     "execution_count": 87,
     "metadata": {},
     "output_type": "execute_result"
    }
   ],
   "source": [
    "# see sample of target label\n",
    "\n",
    "Target"
   ]
  },
  {
   "cell_type": "code",
   "execution_count": 88,
   "id": "d029ad18",
   "metadata": {
    "execution": {
     "iopub.execute_input": "2023-11-11T01:59:14.352718Z",
     "iopub.status.busy": "2023-11-11T01:59:14.352291Z",
     "iopub.status.idle": "2023-11-11T01:59:14.360069Z",
     "shell.execute_reply": "2023-11-11T01:59:14.359273Z"
    },
    "papermill": {
     "duration": 0.036059,
     "end_time": "2023-11-11T01:59:14.362301",
     "exception": false,
     "start_time": "2023-11-11T01:59:14.326242",
     "status": "completed"
    },
    "tags": []
   },
   "outputs": [],
   "source": [
    "X_train, X_test, y_train, y_test = train_test_split(Train, Target, test_size = 0.2, random_state = 42)"
   ]
  },
  {
   "cell_type": "code",
   "execution_count": 89,
   "id": "a6e61ff3",
   "metadata": {
    "execution": {
     "iopub.execute_input": "2023-11-11T01:59:14.415240Z",
     "iopub.status.busy": "2023-11-11T01:59:14.414769Z",
     "iopub.status.idle": "2023-11-11T01:59:14.421005Z",
     "shell.execute_reply": "2023-11-11T01:59:14.420184Z"
    },
    "papermill": {
     "duration": 0.035789,
     "end_time": "2023-11-11T01:59:14.423074",
     "exception": false,
     "start_time": "2023-11-11T01:59:14.387285",
     "status": "completed"
    },
    "tags": []
   },
   "outputs": [
    {
     "name": "stdout",
     "output_type": "stream",
     "text": [
      "x_train shape:  (7898, 5)\n",
      "y_train shape:  (7898,)\n",
      "x_test shape:  (1975, 5)\n",
      "y_test shape:  (1975,)\n"
     ]
    }
   ],
   "source": [
    "# see shape of splited data\n",
    "\n",
    "print(\"x_train shape: \", X_train.shape)\n",
    "print(\"y_train shape: \", y_train.shape)\n",
    "print(\"x_test shape: \", X_test.shape)\n",
    "print(\"y_test shape: \", y_test.shape)"
   ]
  },
  {
   "cell_type": "markdown",
   "id": "b1869fdc",
   "metadata": {
    "papermill": {
     "duration": 0.025125,
     "end_time": "2023-11-11T01:59:14.473624",
     "exception": false,
     "start_time": "2023-11-11T01:59:14.448499",
     "status": "completed"
    },
    "tags": []
   },
   "source": [
    "## Modeling"
   ]
  },
  {
   "cell_type": "code",
   "execution_count": 90,
   "id": "5c5ff856",
   "metadata": {
    "execution": {
     "iopub.execute_input": "2023-11-11T01:59:14.526535Z",
     "iopub.status.busy": "2023-11-11T01:59:14.525777Z",
     "iopub.status.idle": "2023-11-11T01:59:14.530046Z",
     "shell.execute_reply": "2023-11-11T01:59:14.529274Z"
    },
    "papermill": {
     "duration": 0.033294,
     "end_time": "2023-11-11T01:59:14.532178",
     "exception": false,
     "start_time": "2023-11-11T01:59:14.498884",
     "status": "completed"
    },
    "tags": []
   },
   "outputs": [],
   "source": [
    "# create object from RandomForestRegressor\n",
    "\n",
    "model = LinearRegression()"
   ]
  },
  {
   "cell_type": "code",
   "execution_count": 91,
   "id": "80c562b4",
   "metadata": {
    "execution": {
     "iopub.execute_input": "2023-11-11T01:59:14.585010Z",
     "iopub.status.busy": "2023-11-11T01:59:14.584278Z",
     "iopub.status.idle": "2023-11-11T01:59:14.617405Z",
     "shell.execute_reply": "2023-11-11T01:59:14.616129Z"
    },
    "papermill": {
     "duration": 0.062471,
     "end_time": "2023-11-11T01:59:14.620010",
     "exception": false,
     "start_time": "2023-11-11T01:59:14.557539",
     "status": "completed"
    },
    "tags": []
   },
   "outputs": [
    {
     "data": {
      "text/html": [
       "<style>#sk-container-id-3 {color: black;}#sk-container-id-3 pre{padding: 0;}#sk-container-id-3 div.sk-toggleable {background-color: white;}#sk-container-id-3 label.sk-toggleable__label {cursor: pointer;display: block;width: 100%;margin-bottom: 0;padding: 0.3em;box-sizing: border-box;text-align: center;}#sk-container-id-3 label.sk-toggleable__label-arrow:before {content: \"▸\";float: left;margin-right: 0.25em;color: #696969;}#sk-container-id-3 label.sk-toggleable__label-arrow:hover:before {color: black;}#sk-container-id-3 div.sk-estimator:hover label.sk-toggleable__label-arrow:before {color: black;}#sk-container-id-3 div.sk-toggleable__content {max-height: 0;max-width: 0;overflow: hidden;text-align: left;background-color: #f0f8ff;}#sk-container-id-3 div.sk-toggleable__content pre {margin: 0.2em;color: black;border-radius: 0.25em;background-color: #f0f8ff;}#sk-container-id-3 input.sk-toggleable__control:checked~div.sk-toggleable__content {max-height: 200px;max-width: 100%;overflow: auto;}#sk-container-id-3 input.sk-toggleable__control:checked~label.sk-toggleable__label-arrow:before {content: \"▾\";}#sk-container-id-3 div.sk-estimator input.sk-toggleable__control:checked~label.sk-toggleable__label {background-color: #d4ebff;}#sk-container-id-3 div.sk-label input.sk-toggleable__control:checked~label.sk-toggleable__label {background-color: #d4ebff;}#sk-container-id-3 input.sk-hidden--visually {border: 0;clip: rect(1px 1px 1px 1px);clip: rect(1px, 1px, 1px, 1px);height: 1px;margin: -1px;overflow: hidden;padding: 0;position: absolute;width: 1px;}#sk-container-id-3 div.sk-estimator {font-family: monospace;background-color: #f0f8ff;border: 1px dotted black;border-radius: 0.25em;box-sizing: border-box;margin-bottom: 0.5em;}#sk-container-id-3 div.sk-estimator:hover {background-color: #d4ebff;}#sk-container-id-3 div.sk-parallel-item::after {content: \"\";width: 100%;border-bottom: 1px solid gray;flex-grow: 1;}#sk-container-id-3 div.sk-label:hover label.sk-toggleable__label {background-color: #d4ebff;}#sk-container-id-3 div.sk-serial::before {content: \"\";position: absolute;border-left: 1px solid gray;box-sizing: border-box;top: 0;bottom: 0;left: 50%;z-index: 0;}#sk-container-id-3 div.sk-serial {display: flex;flex-direction: column;align-items: center;background-color: white;padding-right: 0.2em;padding-left: 0.2em;position: relative;}#sk-container-id-3 div.sk-item {position: relative;z-index: 1;}#sk-container-id-3 div.sk-parallel {display: flex;align-items: stretch;justify-content: center;background-color: white;position: relative;}#sk-container-id-3 div.sk-item::before, #sk-container-id-3 div.sk-parallel-item::before {content: \"\";position: absolute;border-left: 1px solid gray;box-sizing: border-box;top: 0;bottom: 0;left: 50%;z-index: -1;}#sk-container-id-3 div.sk-parallel-item {display: flex;flex-direction: column;z-index: 1;position: relative;background-color: white;}#sk-container-id-3 div.sk-parallel-item:first-child::after {align-self: flex-end;width: 50%;}#sk-container-id-3 div.sk-parallel-item:last-child::after {align-self: flex-start;width: 50%;}#sk-container-id-3 div.sk-parallel-item:only-child::after {width: 0;}#sk-container-id-3 div.sk-dashed-wrapped {border: 1px dashed gray;margin: 0 0.4em 0.5em 0.4em;box-sizing: border-box;padding-bottom: 0.4em;background-color: white;}#sk-container-id-3 div.sk-label label {font-family: monospace;font-weight: bold;display: inline-block;line-height: 1.2em;}#sk-container-id-3 div.sk-label-container {text-align: center;}#sk-container-id-3 div.sk-container {/* jupyter's `normalize.less` sets `[hidden] { display: none; }` but bootstrap.min.css set `[hidden] { display: none !important; }` so we also need the `!important` here to be able to override the default hidden behavior on the sphinx rendered scikit-learn.org. See: https://github.com/scikit-learn/scikit-learn/issues/21755 */display: inline-block !important;position: relative;}#sk-container-id-3 div.sk-text-repr-fallback {display: none;}</style><div id=\"sk-container-id-3\" class=\"sk-top-container\"><div class=\"sk-text-repr-fallback\"><pre>LinearRegression()</pre><b>In a Jupyter environment, please rerun this cell to show the HTML representation or trust the notebook. <br />On GitHub, the HTML representation is unable to render, please try loading this page with nbviewer.org.</b></div><div class=\"sk-container\" hidden><div class=\"sk-item\"><div class=\"sk-estimator sk-toggleable\"><input class=\"sk-toggleable__control sk-hidden--visually\" id=\"sk-estimator-id-3\" type=\"checkbox\" checked><label for=\"sk-estimator-id-3\" class=\"sk-toggleable__label sk-toggleable__label-arrow\">LinearRegression</label><div class=\"sk-toggleable__content\"><pre>LinearRegression()</pre></div></div></div></div></div>"
      ],
      "text/plain": [
       "LinearRegression()"
      ]
     },
     "execution_count": 91,
     "metadata": {},
     "output_type": "execute_result"
    }
   ],
   "source": [
    "# fit model\n",
    "\n",
    "model.fit(X_train,y_train)"
   ]
  },
  {
   "cell_type": "markdown",
   "id": "78b466e6",
   "metadata": {
    "papermill": {
     "duration": 0.02454,
     "end_time": "2023-11-11T01:59:14.669943",
     "exception": false,
     "start_time": "2023-11-11T01:59:14.645403",
     "status": "completed"
    },
    "tags": []
   },
   "source": [
    "## Evaluating Results"
   ]
  },
  {
   "cell_type": "code",
   "execution_count": 92,
   "id": "b2e19209",
   "metadata": {
    "execution": {
     "iopub.execute_input": "2023-11-11T01:59:14.721450Z",
     "iopub.status.busy": "2023-11-11T01:59:14.721015Z",
     "iopub.status.idle": "2023-11-11T01:59:14.737008Z",
     "shell.execute_reply": "2023-11-11T01:59:14.735636Z"
    },
    "papermill": {
     "duration": 0.045996,
     "end_time": "2023-11-11T01:59:14.740723",
     "exception": false,
     "start_time": "2023-11-11T01:59:14.694727",
     "status": "completed"
    },
    "tags": []
   },
   "outputs": [
    {
     "data": {
      "text/plain": [
       "0.9887391160677558"
      ]
     },
     "execution_count": 92,
     "metadata": {},
     "output_type": "execute_result"
    }
   ],
   "source": [
    "# Calculate the score of the model on the training data\n",
    "\n",
    "model.score(X_train, y_train)"
   ]
  },
  {
   "cell_type": "code",
   "execution_count": 93,
   "id": "dac83f91",
   "metadata": {
    "execution": {
     "iopub.execute_input": "2023-11-11T01:59:14.851328Z",
     "iopub.status.busy": "2023-11-11T01:59:14.850115Z",
     "iopub.status.idle": "2023-11-11T01:59:14.858339Z",
     "shell.execute_reply": "2023-11-11T01:59:14.856900Z"
    },
    "papermill": {
     "duration": 0.067689,
     "end_time": "2023-11-11T01:59:14.862318",
     "exception": false,
     "start_time": "2023-11-11T01:59:14.794629",
     "status": "completed"
    },
    "tags": []
   },
   "outputs": [],
   "source": [
    "# see predicted values\n",
    "\n",
    "predict = np.round(model.predict(X_test), decimals = 1)"
   ]
  },
  {
   "cell_type": "code",
   "execution_count": 94,
   "id": "762b36ad",
   "metadata": {
    "execution": {
     "iopub.execute_input": "2023-11-11T01:59:14.971894Z",
     "iopub.status.busy": "2023-11-11T01:59:14.971157Z",
     "iopub.status.idle": "2023-11-11T01:59:14.988276Z",
     "shell.execute_reply": "2023-11-11T01:59:14.987450Z"
    },
    "papermill": {
     "duration": 0.074599,
     "end_time": "2023-11-11T01:59:14.990369",
     "exception": false,
     "start_time": "2023-11-11T01:59:14.915770",
     "status": "completed"
    },
    "tags": []
   },
   "outputs": [
    {
     "data": {
      "text/html": [
       "<div>\n",
       "<style scoped>\n",
       "    .dataframe tbody tr th:only-of-type {\n",
       "        vertical-align: middle;\n",
       "    }\n",
       "\n",
       "    .dataframe tbody tr th {\n",
       "        vertical-align: top;\n",
       "    }\n",
       "\n",
       "    .dataframe thead th {\n",
       "        text-align: right;\n",
       "    }\n",
       "</style>\n",
       "<table border=\"1\" class=\"dataframe\">\n",
       "  <thead>\n",
       "    <tr style=\"text-align: right;\">\n",
       "      <th></th>\n",
       "      <th>Actual Performance</th>\n",
       "      <th>Predicted Performance</th>\n",
       "    </tr>\n",
       "  </thead>\n",
       "  <tbody>\n",
       "    <tr>\n",
       "      <th>6099</th>\n",
       "      <td>47.0</td>\n",
       "      <td>46.5</td>\n",
       "    </tr>\n",
       "    <tr>\n",
       "      <th>106</th>\n",
       "      <td>76.0</td>\n",
       "      <td>80.3</td>\n",
       "    </tr>\n",
       "    <tr>\n",
       "      <th>9265</th>\n",
       "      <td>62.0</td>\n",
       "      <td>61.1</td>\n",
       "    </tr>\n",
       "    <tr>\n",
       "      <th>4707</th>\n",
       "      <td>23.0</td>\n",
       "      <td>22.7</td>\n",
       "    </tr>\n",
       "    <tr>\n",
       "      <th>2155</th>\n",
       "      <td>76.0</td>\n",
       "      <td>74.8</td>\n",
       "    </tr>\n",
       "    <tr>\n",
       "      <th>...</th>\n",
       "      <td>...</td>\n",
       "      <td>...</td>\n",
       "    </tr>\n",
       "    <tr>\n",
       "      <th>8732</th>\n",
       "      <td>19.0</td>\n",
       "      <td>18.3</td>\n",
       "    </tr>\n",
       "    <tr>\n",
       "      <th>3112</th>\n",
       "      <td>39.0</td>\n",
       "      <td>40.3</td>\n",
       "    </tr>\n",
       "    <tr>\n",
       "      <th>5297</th>\n",
       "      <td>77.0</td>\n",
       "      <td>77.1</td>\n",
       "    </tr>\n",
       "    <tr>\n",
       "      <th>6116</th>\n",
       "      <td>88.0</td>\n",
       "      <td>86.2</td>\n",
       "    </tr>\n",
       "    <tr>\n",
       "      <th>5088</th>\n",
       "      <td>34.0</td>\n",
       "      <td>35.9</td>\n",
       "    </tr>\n",
       "  </tbody>\n",
       "</table>\n",
       "<p>1975 rows × 2 columns</p>\n",
       "</div>"
      ],
      "text/plain": [
       "      Actual Performance  Predicted Performance\n",
       "6099                47.0                   46.5\n",
       "106                 76.0                   80.3\n",
       "9265                62.0                   61.1\n",
       "4707                23.0                   22.7\n",
       "2155                76.0                   74.8\n",
       "...                  ...                    ...\n",
       "8732                19.0                   18.3\n",
       "3112                39.0                   40.3\n",
       "5297                77.0                   77.1\n",
       "6116                88.0                   86.2\n",
       "5088                34.0                   35.9\n",
       "\n",
       "[1975 rows x 2 columns]"
      ]
     },
     "execution_count": 94,
     "metadata": {},
     "output_type": "execute_result"
    }
   ],
   "source": [
    "# Real Values vs Predicted Values\n",
    "\n",
    "pd.DataFrame({\"Actual Performance\" : y_test, \"Predicted Performance\" : predict})"
   ]
  },
  {
   "cell_type": "code",
   "execution_count": 95,
   "id": "0d3c9426",
   "metadata": {
    "execution": {
     "iopub.execute_input": "2023-11-11T01:59:15.044254Z",
     "iopub.status.busy": "2023-11-11T01:59:15.043451Z",
     "iopub.status.idle": "2023-11-11T01:59:15.300392Z",
     "shell.execute_reply": "2023-11-11T01:59:15.299234Z"
    },
    "papermill": {
     "duration": 0.286496,
     "end_time": "2023-11-11T01:59:15.302756",
     "exception": false,
     "start_time": "2023-11-11T01:59:15.016260",
     "status": "completed"
    },
    "tags": []
   },
   "outputs": [
    {
     "data": {
      "image/png": "[encoded data removed]",
      "text/plain": [
       "<Figure size 640x480 with 1 Axes>"
      ]
     },
     "metadata": {},
     "output_type": "display_data"
    }
   ],
   "source": [
    "# Create scatter plot to see distribution\n",
    "\n",
    "plt.scatter(y_test, predict)\n",
    "plt.show()"
   ]
  },
  {
   "cell_type": "code",
   "execution_count": 96,
   "id": "8a549955",
   "metadata": {
    "execution": {
     "iopub.execute_input": "2023-11-11T01:59:15.356752Z",
     "iopub.status.busy": "2023-11-11T01:59:15.356338Z",
     "iopub.status.idle": "2023-11-11T01:59:15.363464Z",
     "shell.execute_reply": "2023-11-11T01:59:15.362735Z"
    },
    "papermill": {
     "duration": 0.036535,
     "end_time": "2023-11-11T01:59:15.365518",
     "exception": false,
     "start_time": "2023-11-11T01:59:15.328983",
     "status": "completed"
    },
    "tags": []
   },
   "outputs": [
    {
     "data": {
      "text/plain": [
       "1.6469367088607596"
      ]
     },
     "execution_count": 96,
     "metadata": {},
     "output_type": "execute_result"
    }
   ],
   "source": [
    "# see mean absolute error \n",
    "\n",
    "mean_absolute_error(y_test,predict)"
   ]
  },
  {
   "cell_type": "code",
   "execution_count": 97,
   "id": "948b6f1b",
   "metadata": {
    "execution": {
     "iopub.execute_input": "2023-11-11T01:59:15.421565Z",
     "iopub.status.busy": "2023-11-11T01:59:15.420788Z",
     "iopub.status.idle": "2023-11-11T01:59:15.428092Z",
     "shell.execute_reply": "2023-11-11T01:59:15.427310Z"
    },
    "papermill": {
     "duration": 0.037967,
     "end_time": "2023-11-11T01:59:15.430301",
     "exception": false,
     "start_time": "2023-11-11T01:59:15.392334",
     "status": "completed"
    },
    "tags": []
   },
   "outputs": [
    {
     "data": {
      "text/plain": [
       "0.9884215285728708"
      ]
     },
     "execution_count": 97,
     "metadata": {},
     "output_type": "execute_result"
    }
   ],
   "source": [
    "# see score\n",
    "\n",
    "r2_score(y_test,predict)"
   ]
  },
  {
   "cell_type": "code",
   "execution_count": 98,
   "id": "af16bcdd",
   "metadata": {
    "execution": {
     "iopub.execute_input": "2023-11-11T01:59:15.486340Z",
     "iopub.status.busy": "2023-11-11T01:59:15.485543Z",
     "iopub.status.idle": "2023-11-11T01:59:15.492835Z",
     "shell.execute_reply": "2023-11-11T01:59:15.491811Z"
    },
    "papermill": {
     "duration": 0.037954,
     "end_time": "2023-11-11T01:59:15.495104",
     "exception": false,
     "start_time": "2023-11-11T01:59:15.457150",
     "status": "completed"
    },
    "tags": []
   },
   "outputs": [
    {
     "data": {
      "text/plain": [
       "array([2.8510219 , 1.01843034, 0.57382297, 0.47207329, 0.18870366])"
      ]
     },
     "execution_count": 98,
     "metadata": {},
     "output_type": "execute_result"
    }
   ],
   "source": [
    "# see coefficients values\n",
    "\n",
    "model.coef_"
   ]
  },
  {
   "cell_type": "code",
   "execution_count": 99,
   "id": "2a53e6f7",
   "metadata": {
    "execution": {
     "iopub.execute_input": "2023-11-11T01:59:15.551658Z",
     "iopub.status.busy": "2023-11-11T01:59:15.550998Z",
     "iopub.status.idle": "2023-11-11T01:59:15.557773Z",
     "shell.execute_reply": "2023-11-11T01:59:15.556585Z"
    },
    "papermill": {
     "duration": 0.037801,
     "end_time": "2023-11-11T01:59:15.559898",
     "exception": false,
     "start_time": "2023-11-11T01:59:15.522097",
     "status": "completed"
    },
    "tags": []
   },
   "outputs": [
    {
     "data": {
      "text/plain": [
       "-33.981324496440635"
      ]
     },
     "execution_count": 99,
     "metadata": {},
     "output_type": "execute_result"
    }
   ],
   "source": [
    "# see y intercept\n",
    "\n",
    "model.intercept_"
   ]
  },
  {
   "cell_type": "markdown",
   "id": "d2ef2c8e",
   "metadata": {
    "papermill": {
     "duration": 0.026823,
     "end_time": "2023-11-11T01:59:15.613631",
     "exception": false,
     "start_time": "2023-11-11T01:59:15.586808",
     "status": "completed"
    },
    "tags": []
   },
   "source": [
    "**Equation of our multiple linear regression model is :**\n",
    "   - 2.85 × Hours Studied + 1.01 × Previous Scores + 0.57 × Extracurricular Activities + 0.47 × Sleep Hours + 0.18 × Sample Question Papers Practiced - 33.92"
   ]
  },
  {
   "cell_type": "code",
   "execution_count": 101,
   "id": "19a244cc",
   "metadata": {
    "papermill": {
     "duration": 0.026602,
     "end_time": "2023-11-11T01:59:15.671987",
     "exception": false,
     "start_time": "2023-11-11T01:59:15.645385",
     "status": "completed"
    },
    "tags": []
   },
   "outputs": [
    {
     "name": "stdout",
     "output_type": "stream",
     "text": [
      "Enter hours studied: 5\n",
      "Enter previous scores: 56\n",
      "Participated in extracurricular activities? (Yes/No): yes\n",
      "Enter average sleep hours: 7\n",
      "Enter number of sample question papers practiced: 5\n",
      "Predicted Performance Index: 42.13\n"
     ]
    },
    {
     "name": "stderr",
     "output_type": "stream",
     "text": [
      "C:\\Users\\Saloni Verma\\AppData\\Local\\anaconda3\\Lib\\site-packages\\sklearn\\base.py:464: UserWarning: X does not have valid feature names, but LinearRegression was fitted with feature names\n",
      "  warnings.warn(\n"
     ]
    }
   ],
   "source": [
    "# Input values from the user\n",
    "hours_studied = float(input(\"Enter hours studied: \"))\n",
    "previous_scores = float(input(\"Enter previous scores: \"))\n",
    "extracurricular = input(\"Participated in extracurricular activities? (Yes/No): \")\n",
    "sleep_hours = float(input(\"Enter average sleep hours: \"))\n",
    "sample_papers = int(input(\"Enter number of sample question papers practiced: \"))\n",
    "\n",
    "# Convert 'Yes'/'No' to numerical format\n",
    "extracurricular_num = 1 if extracurricular.lower() == \"yes\" else 0\n",
    "\n",
    "# Create input array\n",
    "input_data = [[hours_studied, previous_scores, extracurricular_num, sleep_hours, sample_papers]]\n",
    "\n",
    "# Make prediction\n",
    "predicted_performance = model.predict(input_data)\n",
    "\n",
    "print(f\"Predicted Performance Index: {predicted_performance[0]:.2f}\")\n"
   ]
  },
  {
   "cell_type": "code",
   "execution_count": null,
   "id": "a9cbc9cd",
   "metadata": {},
   "outputs": [],
   "source": []
  }
 ],
 "metadata": {
  "kernelspec": {
   "display_name": "Python 3 (ipykernel)",
   "language": "python",
   "name": "python3"
  },
  "language_info": {
   "codemirror_mode": {
    "name": "ipython",
    "version": 3
   },
   "file_extension": ".py",
   "mimetype": "text/x-python",
   "name": "python",
   "nbconvert_exporter": "python",
   "pygments_lexer": "ipython3",
   "version": "3.11.5"
  },
  "papermill": {
   "default_parameters": {},
   "duration": 13.578078,
   "end_time": "2023-11-11T01:59:16.319652",
   "environment_variables": {},
   "exception": null,
   "input_path": "__notebook__.ipynb",
   "output_path": "__notebook__.ipynb",
   "parameters": {},
   "start_time": "2023-11-11T01:59:02.741574",
   "version": "2.4.0"
  }
 },
 "nbformat": 4,
 "nbformat_minor": 5
}
